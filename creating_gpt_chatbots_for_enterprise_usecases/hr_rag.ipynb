{
 "cells": [
  {
   "cell_type": "code",
   "execution_count": 1,
   "id": "bd8701dc-0a89-4378-af98-b59efddcd1aa",
   "metadata": {},
   "outputs": [],
   "source": [
    "import os\n",
    "from llama_index.core import (\n",
    "    VectorStoreIndex,\n",
    "    SimpleDirectoryReader,\n",
    "    StorageContext,\n",
    "    load_index_from_storage,\n",
    ")\n",
    "from llama_index.core.embeddings import resolve_embed_model\n",
    "from llama_index.core.callbacks import CallbackManager\n",
    "from llama_index.llms.ollama import Ollama"
   ]
  },
  {
   "cell_type": "markdown",
   "id": "8de80cdd-fd42-478f-bfb0-bd280ee1d47f",
   "metadata": {},
   "source": [
    "## load the data"
   ]
  },
  {
   "cell_type": "code",
   "execution_count": 2,
   "id": "7b6662c3-db2f-409f-9eca-a9b46c81c5ef",
   "metadata": {},
   "outputs": [],
   "source": [
    "reader = SimpleDirectoryReader(input_dir=\"./data\", recursive=True)\n",
    "docs = reader.load_data()"
   ]
  },
  {
   "cell_type": "markdown",
   "id": "99f9745d-ada8-45de-98fb-41b8cea0a40e",
   "metadata": {},
   "source": [
    "## Retrieval\n",
    "\n",
    "for retrieving the correct documents we need the embedding model to create the embeddings that will be used to index in the vector db."
   ]
  },
  {
   "cell_type": "code",
   "execution_count": 3,
   "id": "fb7b2eb5-2bbf-4437-9cd6-94f8ce8f3af8",
   "metadata": {},
   "outputs": [],
   "source": [
    "embed_model = resolve_embed_model(\"local:BAAI/bge-small-en-v1.5\")\n",
    "index = VectorStoreIndex.from_documents(docs, embed_model=embed_model)"
   ]
  },
  {
   "cell_type": "code",
   "execution_count": 4,
   "id": "52e4be9e-12d4-4c58-8cca-00c5c7d771d8",
   "metadata": {},
   "outputs": [
    {
     "name": "stdout",
     "output_type": "stream",
     "text": [
      "42\n"
     ]
    },
    {
     "data": {
      "text/markdown": [
       "**Node ID:** 4c758b9b-ee86-41e9-8d84-32ee1198f364<br>**Similarity:** 0.7420152863168419<br>**Text:** Human Resource Policy Manual Version 1.0   Karvy Financial Services Ltd  \n",
       " \n",
       "This document is a proprietary information of KFSL  and should not be reproduced or altered without requisite p ermissions.  \n",
       " \n",
       "       \n",
       "Confidential   Page 17 of 28  \n",
       " \n",
       " \n",
       " \n",
       "Ready re ckoner for leaves:  \n",
       " \n",
       "# Particulars  Mandatory Leave  Privilege Leave  Maternity Leave for \n",
       "female employees  \n",
       "1 Entitlement  (7 days) once in six \n",
       "month s (Jan - Jun, Jul \n",
       "– Dec).  21 working  days in a \n",
       "year. Prorated for new \n",
       "joinees  (inclusive of \n",
       "mandatory leave)  12 Weeks  \n",
       "2 Accrual  Nil – Lapse at the end \n",
       "of year  Nil – Lapse at the end \n",
       "of year  - \n",
       "3 Encashment  Nil Nil - \n",
       "4 Combination  Can only be clubbed \n",
       "with maternity and sick \n",
       "leave.  Can only be clubbed \n",
       "with maternity and sick \n",
       "leave.  Can be clubbed with \n",
       "any other leave  \n",
       "6 Prefix/suffix  Can be pre -fixed OR \n",
       "suffixed to paid \n",
       "holiday. Paid holiday \n",
       "not counted as a part \n",
       "of leave  Can be pre -fixed OR \n",
       "suffixed to pai d \n",
       "holiday. Paid holiday \n",
       "not counted ...<br>"
      ],
      "text/plain": [
       "<IPython.core.display.Markdown object>"
      ]
     },
     "metadata": {},
     "output_type": "display_data"
    },
    {
     "name": "stdout",
     "output_type": "stream",
     "text": [
      "##################################################\n"
     ]
    },
    {
     "data": {
      "text/markdown": [
       "**Node ID:** 7f23d807-68fc-48eb-9bdf-79271b542541<br>**Similarity:** 0.725471263226318<br>**Text:** Human Resource Policy Manual Version 1.0   Karvy Financial Services Ltd  \n",
       " \n",
       "This document is a proprietary information of KFSL  and should not be reproduced or altered without requisite p ermissions.  \n",
       " \n",
       "       \n",
       "Confidential   Page 16 of 28 8) Once all ratings have been collated by KFSL HR there has to be a normalization \n",
       "discussion. The participants for this discussion would be all the business heads, CEO , \n",
       "HR. The primary motive of the norma lization process is to ensure that the ratings are \n",
       "following a normal distribution . \n",
       "9) Post the normalization exercise the rating will be sent to vertical heads for a final review.  \n",
       "10) Post the review by the vertical heads the final ratings will have to be approv ed by the \n",
       "CEO . \n",
       " \n",
       "Index  \n",
       " \n",
       "7.0 Leave Policy  \n",
       " \n",
       "Objective  \n",
       "To define leave entitlement for all employees.   \n",
       " \n",
       "Eligibility  \n",
       "All employees on the rolls of the company are covered by the leave policy.  \n",
       " \n",
       "Scope  \n",
       "Entitlement for leave  is prorated and shall commence from the ...<br>"
      ],
      "text/plain": [
       "<IPython.core.display.Markdown object>"
      ]
     },
     "metadata": {},
     "output_type": "display_data"
    },
    {
     "name": "stdout",
     "output_type": "stream",
     "text": [
      "##################################################\n"
     ]
    },
    {
     "data": {
      "text/markdown": [
       "**Node ID:** 1c093ea5-d44f-4ade-b774-a48943f315e6<br>**Similarity:** 0.7153000795944129<br>**Text:** Human Resource Policy Manual Version 1.0   Karvy Financial Services Ltd  \n",
       " \n",
       "This document is a proprietary information of KFSL  and should not be reproduced or altered without requisite p ermissions.  \n",
       " \n",
       "       \n",
       "Confidential   Page 20 of 28 The Supervisor must accept the resignation, specify the last working day of the employee and \n",
       "forward to KFSL HR. \n",
       " \n",
       "KFSL HR  intimates Karvy Corporate HR of the resignation.   \n",
       " \n",
       "In cases where an employee named in whistle blow resigns, our practice would  be to accept the \n",
       "resignation, but not relieve the employee until the investigation is complete.   \n",
       " \n",
       "KSBL HR sends a clearance form to the employee who obtains the relevant clearances and \n",
       "sends back to KSBL HR on his/her last working day . Prior to the emplo yee’s separation, an exit \n",
       "interview  needs to be conducted  and feedback documented.  \n",
       " \n",
       "Incase of employees up to Manager Level the exit interview has to be conducted by at least a VP \n",
       "level resource and KSBL HR. In cases of employees ...<br>"
      ],
      "text/plain": [
       "<IPython.core.display.Markdown object>"
      ]
     },
     "metadata": {},
     "output_type": "display_data"
    },
    {
     "name": "stdout",
     "output_type": "stream",
     "text": [
      "##################################################\n"
     ]
    },
    {
     "data": {
      "text/markdown": [
       "**Node ID:** cce68681-1733-4084-8de6-2583a5a80de6<br>**Similarity:** 0.7103759862224956<br>**Text:** Human Resource Policy Manual Version 1.0   Karvy Financial Services Ltd  \n",
       " \n",
       "This document is a proprietary information of KFSL  and should not be reproduced or altered without requisite p ermissions.  \n",
       " \n",
       "       \n",
       "Confidential   Page 18 of 28 The Company will reimburse or organize relocation / transfer expenses on actual subjects to prior \n",
       "approval of vertical  head and KFSL HR, CEO  and Group Head HR . \n",
       " \n",
       "Employees on transfer / relocation will be entitled to s tay at a hotel / company guesthouse for a \n",
       "period of 1 week. Any extension for staying at the guesthouse / hotel will need the prior approval \n",
       "of the CEO  and Group Head HR . \n",
       " \n",
       " \n",
       "For employees who stay in a hotel, entit lements of the Domestic Travel Policy will apply.  \n",
       "Prior to the relocation, the employee can make one trip along with his / her spouse, to finalize \n",
       "accommodation etc. In case school admission is required for children, up to two children may \n",
       "accompany the pa rents on the same visit. Entitlement for travel wo...<br>"
      ],
      "text/plain": [
       "<IPython.core.display.Markdown object>"
      ]
     },
     "metadata": {},
     "output_type": "display_data"
    },
    {
     "name": "stdout",
     "output_type": "stream",
     "text": [
      "##################################################\n"
     ]
    },
    {
     "data": {
      "text/markdown": [
       "**Node ID:** 634a2385-0f2e-4326-bb59-6e469f70486b<br>**Similarity:** 0.6919120550592223<br>**Text:** Human Resource Policy Manual Version 1.0   Karvy Financial Services Ltd  \n",
       " \n",
       "This document is a proprietary information of KFSL  and should not be reproduced or altered without requisite p ermissions.  \n",
       " \n",
       "       \n",
       "Confidential   Page 12 of 28 Index  \n",
       " \n",
       "5.0 Compensation & Benefits  \n",
       "5.1 Leave travel assistance policy  \n",
       " \n",
       "Objective  \n",
       "To allow employees the benefit of an annual vacation for rest and relaxation  \n",
       " \n",
       "Eligibility  \n",
       "All permanent employees on the rolls of company are eligible for LTA.  \n",
       " \n",
       "Scope  \n",
       "For e mployees at all levels, LTA is fixed and is mentioned on the appointment letter / increment \n",
       "letter  \n",
       " \n",
       "LTA entitlement can be claimed once in a financial year.  However, for tax exemption purposes \n",
       "LTA is exempt only  twice in a block of 4 years as defined by t he Government.  \n",
       "If LTA is not claimed during the financial year, the same shall be carried forward to the next \n",
       "financial year.  \n",
       " \n",
       "As per Income Tax rules, actual train fare for AC first class/Economy air fare for the...<br>"
      ],
      "text/plain": [
       "<IPython.core.display.Markdown object>"
      ]
     },
     "metadata": {},
     "output_type": "display_data"
    },
    {
     "name": "stdout",
     "output_type": "stream",
     "text": [
      "##################################################\n"
     ]
    }
   ],
   "source": [
    "from llama_index.core.node_parser import SentenceSplitter\n",
    "from llama_index.core.response.notebook_utils import display_source_node\n",
    "\n",
    "retriever = index.as_retriever(similarity_top_k=5)\n",
    "node_parser = SentenceSplitter(chunk_size=512)\n",
    "nodes = node_parser.get_nodes_from_documents(docs)\n",
    "print(f'{len(nodes)}')\n",
    "\n",
    "retrieved_nodes = retriever.retrieve(\"Tell me about leave policy\")\n",
    "\n",
    "for node in retrieved_nodes:\n",
    "    display_source_node(node, source_length=1000)\n",
    "    print('#'*50)"
   ]
  },
  {
   "cell_type": "markdown",
   "id": "dbbc733f-1556-44d8-aba1-11bad281669f",
   "metadata": {},
   "source": [
    "## Query Engine\n",
    "\n",
    "Various query engines are available such as query engine, chat engine etc. Here we go ahead with query engine."
   ]
  },
  {
   "cell_type": "code",
   "execution_count": 5,
   "id": "0e896843-e49c-4350-b59b-2f2b33e2ed0c",
   "metadata": {},
   "outputs": [],
   "source": [
    "llm = Ollama(model=\"phi\", request_timeout=300)\n",
    "chat_engine = index.as_query_engine(llm=llm, verbose=True, similarity_top_k=3)"
   ]
  },
  {
   "cell_type": "markdown",
   "id": "6a9eed29-9fa5-4e50-a911-71e46e20cbc7",
   "metadata": {},
   "source": [
    "## response generation\n",
    "\n",
    "augment the query and pass to llm"
   ]
  },
  {
   "cell_type": "code",
   "execution_count": 8,
   "id": "f68cab26-8222-4450-a456-7b2d3966ab34",
   "metadata": {},
   "outputs": [
    {
     "name": "stdout",
     "output_type": "stream",
     "text": [
      " The leave policy defines the entitlement for all employees. All employees are covered by the leave policy. Entitlement for leave is prorated and shall commence from the day an employee joins the company. There are three types of leaves - privilege leave, sick leave and maternity leave. Privilege leave entitles 21 days per year for all employees, including mandatory leave. Sick leaves can be granted at the discretion of supervisor, KFSL HR, and CEO. Maternity leave is governed by the provisions of Maternity Benefit Act, 1961, where an employee has worked in the company for 80 days. All reporting managers are responsible for informing, whenever relevant, the names of employees who have availed maternity leave.\n",
      " \n",
      "\n",
      "\n"
     ]
    }
   ],
   "source": [
    "prompt = 'Tell me about leave policy'\n",
    "response = chat_engine.query(prompt)\n",
    "print(response.response)"
   ]
  },
  {
   "cell_type": "code",
   "execution_count": null,
   "id": "00670541-6c86-466f-9438-082a0ae9287e",
   "metadata": {},
   "outputs": [],
   "source": []
  }
 ],
 "metadata": {
  "kernelspec": {
   "display_name": "Python 3 (ipykernel)",
   "language": "python",
   "name": "python3"
  },
  "language_info": {
   "codemirror_mode": {
    "name": "ipython",
    "version": 3
   },
   "file_extension": ".py",
   "mimetype": "text/x-python",
   "name": "python",
   "nbconvert_exporter": "python",
   "pygments_lexer": "ipython3",
   "version": "3.10.9"
  }
 },
 "nbformat": 4,
 "nbformat_minor": 5
}
